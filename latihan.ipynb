{
 "cells": [
  {
   "cell_type": "markdown",
   "metadata": {},
   "source": [
    "## PERTEMUAN 1 SCPK"
   ]
  },
  {
   "cell_type": "markdown",
   "metadata": {},
   "source": [
    "### Tipe data python"
   ]
  },
  {
   "cell_type": "code",
   "execution_count": 9,
   "metadata": {},
   "outputs": [
    {
     "name": "stdout",
     "output_type": "stream",
     "text": [
      "muhamad akbar riziq\n",
      "bukan akbar\n"
     ]
    }
   ],
   "source": [
    "nama = \"muhamad akbar riziq\"\n",
    "char = 'c'\n",
    "int_var = 12323\n",
    "float_var = 123.23\n",
    "list_var = [\"abc\", 'a', 123, 123.23]\n",
    "dict_var = {\n",
    "    \"nama\": \"abc\",\n",
    "    \"umur\": 22\n",
    "}\n",
    "print(nama)\n",
    "\n",
    "if nama == \"akbar\":\n",
    "    print(\"akbar\" + char)\n",
    "else:\n",
    "    print(\"bukan akbar\")"
   ]
  },
  {
   "cell_type": "markdown",
   "metadata": {},
   "source": [
    "### Operator python"
   ]
  },
  {
   "cell_type": "code",
   "execution_count": null,
   "metadata": {},
   "outputs": [],
   "source": []
  },
  {
   "cell_type": "markdown",
   "metadata": {},
   "source": [
    "### Statement pengendalian python"
   ]
  },
  {
   "cell_type": "code",
   "execution_count": 10,
   "metadata": {},
   "outputs": [
    {
     "name": "stdout",
     "output_type": "stream",
     "text": [
      "A\n"
     ]
    }
   ],
   "source": [
    "nilai = int(input(\"Masukkan Nilai: \"))\n",
    "if nilai > 2:\n",
    "    print('A')"
   ]
  }
 ],
 "metadata": {
  "kernelspec": {
   "display_name": ".venv",
   "language": "python",
   "name": "python3"
  },
  "language_info": {
   "codemirror_mode": {
    "name": "ipython",
    "version": 3
   },
   "file_extension": ".py",
   "mimetype": "text/x-python",
   "name": "python",
   "nbconvert_exporter": "python",
   "pygments_lexer": "ipython3",
   "version": "3.12.3"
  }
 },
 "nbformat": 4,
 "nbformat_minor": 2
}

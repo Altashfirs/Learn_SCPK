{
 "cells": [
  {
   "cell_type": "markdown",
   "id": "15652c70",
   "metadata": {},
   "source": [
    "# Pertemuan 7 - WP"
   ]
  },
  {
   "cell_type": "markdown",
   "id": "09347442",
   "metadata": {},
   "source": [
    "## Pengaturan Data"
   ]
  },
  {
   "cell_type": "markdown",
   "id": "17c1cf00",
   "metadata": {},
   "source": [
    "- Alternatif:\n",
    "    - Mobil A\n",
    "    - Mobil B\n",
    "    - Mobil C\n",
    "- Kriteria: \n",
    "    - Harga (Cost)\n",
    "    - Efisiensi Bahan Bakar (Benefit)\n",
    "    - Kekuatan Mesin (Benefit)\n",
    "- Bobot:\n",
    "    - Harga : 5\n",
    "    - EBB   : 4\n",
    "    - KM    : 4"
   ]
  },
  {
   "cell_type": "markdown",
   "id": "5545a52c",
   "metadata": {},
   "source": [
    "## Matriks Keputusan"
   ]
  },
  {
   "cell_type": "code",
   "execution_count": 9,
   "id": "019af3ee",
   "metadata": {},
   "outputs": [
    {
     "name": "stdout",
     "output_type": "stream",
     "text": [
      "Matriks Keputusan\n",
      "          Harga  BBM  Mesin\n",
      "Mobil A    300   15    150\n",
      "Mobil B    250   18    180\n",
      "Mobil C    350   12    160\n"
     ]
    }
   ],
   "source": [
    "# Reinstall pandas to fix the issue\n",
    "# %pip install --force-reinstall pandas\n",
    "\n",
    "import numpy as np\n",
    "import pandas as pd\n",
    "\n",
    "# penentuan alternatif\n",
    "alternatives = ['Mobil A', 'Mobil B', 'Mobil C']\n",
    "kriteria = ['Harga', 'BBM', 'Mesin']\n",
    "\n",
    "# Data tiap alternatif\n",
    "# Harga (Juta), BBM (Km/L), Kekuatan Mesin (Hp)\n",
    "data = np.array([\n",
    "    [300, 15, 150],  # Mobil A\n",
    "    [250, 18, 180],  # Mobil B\n",
    "    [350, 12, 160]   # Mobil C\n",
    "])\n",
    "\n",
    "df = pd.DataFrame(data, columns=kriteria, index=alternatives)\n",
    "print(\"Matriks Keputusan\\n\", df)\n",
    "\n",
    "# Penentuan Benefit/Cost\n",
    "k = [-1,1,1]\n",
    "\n",
    "# Bobot\n",
    "weights = [5,4,4]\n"
   ]
  },
  {
   "cell_type": "markdown",
   "id": "c43fb906",
   "metadata": {},
   "source": [
    "## Normalisasi Bobot"
   ]
  },
  {
   "cell_type": "code",
   "execution_count": 10,
   "id": "92a93f98",
   "metadata": {},
   "outputs": [
    {
     "name": "stdout",
     "output_type": "stream",
     "text": [
      "Bobot Normalisasi\n",
      " [0.38461538461538464, 0.3076923076923077, 0.3076923076923077]\n"
     ]
    }
   ],
   "source": [
    "# m = Jumlah Alternatif, n = Jumlah Kriteria\n",
    "m = len(data)\n",
    "n = len(data[0])\n",
    "\n",
    "# Normalisasi Bobot\n",
    "weights_norm = [data/sum(weights) for data in weights]\n",
    "print(\"Bobot Normalisasi\\n\", weights_norm)"
   ]
  },
  {
   "cell_type": "markdown",
   "id": "aaa382cf",
   "metadata": {},
   "source": [
    "## Menghitung vektor S"
   ]
  },
  {
   "cell_type": "code",
   "execution_count": null,
   "id": "e2c5a192",
   "metadata": {},
   "outputs": [
    {
     "name": "stdout",
     "output_type": "stream",
     "text": [
      "Vektor S\n",
      "          Vektor S\n",
      "Mobil A  1.198676\n",
      "Mobil B  1.438411\n",
      "Mobil C  1.075868\n"
     ]
    }
   ],
   "source": [
    "s = []\n",
    "for i in range(m):\n",
    "    s_value = 1\n",
    "    for j in range(n):\n",
    "        s_value *= (data[i][j] ** (k[j] * weights_norm[j]))\n",
    "    s.append(s_value)\n",
    "    \n",
    "df_s = pd.DataFrame(s, columns=['Vektor S'], index=alternatives)\n",
    "print(\"Vektor S\\n\", df_s)"
   ]
  },
  {
   "cell_type": "markdown",
   "id": "e2a02daa",
   "metadata": {},
   "source": [
    "## Menghitung Vektor V"
   ]
  },
  {
   "cell_type": "code",
   "execution_count": 19,
   "id": "2ef7b3b1",
   "metadata": {},
   "outputs": [
    {
     "name": "stdout",
     "output_type": "stream",
     "text": [
      "Vektor V\n",
      "          Vektor V\n",
      "Mobil A  0.322836\n",
      "Mobil B  0.387403\n",
      "Mobil C  0.289760\n",
      "\n",
      "Alternatif Terbaik:  Mobil B\n"
     ]
    }
   ],
   "source": [
    "total_s = sum(s)\n",
    "v = [s_value/total_s for s_value in s]\n",
    "\n",
    "# Matriks Vektor V\n",
    "df_v = pd.DataFrame(v, columns=['Vektor V'], index=alternatives)\n",
    "print(\"Vektor V\\n\", df_v)\n",
    "\n",
    "# Penentuan Alternatif\n",
    "best_alternatif = alternatives[v.index(max(v))]\n",
    "print(\"\\nAlternatif Terbaik: \", best_alternatif)"
   ]
  }
 ],
 "metadata": {
  "kernelspec": {
   "display_name": ".venv",
   "language": "python",
   "name": "python3"
  },
  "language_info": {
   "codemirror_mode": {
    "name": "ipython",
    "version": 3
   },
   "file_extension": ".py",
   "mimetype": "text/x-python",
   "name": "python",
   "nbconvert_exporter": "python",
   "pygments_lexer": "ipython3",
   "version": "3.12.3"
  }
 },
 "nbformat": 4,
 "nbformat_minor": 5
}
